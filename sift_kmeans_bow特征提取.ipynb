{
 "cells": [
  {
   "cell_type": "code",
   "execution_count": 1,
   "metadata": {},
   "outputs": [],
   "source": [
    "import cv2\n",
    "import imutils\n",
    "import numpy as np\n",
    "import os\n",
    "from sklearn.svm import LinearSVC\n",
    "from sklearn.externals import joblib\n",
    "from scipy.cluster.vq import *\n",
    "from sklearn.preprocessing import StandardScaler\n",
    "import matplotlib.pyplot as plt"
   ]
  },
  {
   "cell_type": "code",
   "execution_count": 62,
   "metadata": {},
   "outputs": [],
   "source": [
    "train_path = \"../KDEF/\"\n",
    "training_names = os.listdir(train_path)"
   ]
  },
  {
   "cell_type": "code",
   "execution_count": 63,
   "metadata": {},
   "outputs": [],
   "source": [
    "def imlist(path):\n",
    "    \"\"\"\n",
    "    The function imlist returns all the names of the files in \n",
    "    the directory path supplied as argument to the function.\n",
    "    \"\"\"\n",
    "    return [path+'/'+f for f in os.listdir(path)]"
   ]
  },
  {
   "cell_type": "code",
   "execution_count": 64,
   "metadata": {},
   "outputs": [],
   "source": [
    "# Get all the path to the images and save them in a list\n",
    "# image_paths and the corresponding label in image_paths\n",
    "image_paths = []\n",
    "image_classes = []\n",
    "class_id = 0\n",
    "for training_name in training_names:\n",
    "    dir = os.path.join(train_path, training_name)\n",
    "    class_path = imlist(dir)\n",
    "    image_paths += class_path\n",
    "    image_classes += [class_id] * len(class_path)\n",
    "    class_id += 1"
   ]
  },
  {
   "cell_type": "code",
   "execution_count": 65,
   "metadata": {},
   "outputs": [],
   "source": [
    "# 创建SIFT特征提取器\n",
    "sift = cv2.xfeatures2d.SIFT_create()\n",
    "\n",
    "# 特征提取与描述子生成\n",
    "des_list = []\n",
    "order = 0\n",
    "\n",
    "for image_path in image_paths:\n",
    "    if order % 5 >= 2:\n",
    "        im = cv2.imread(image_path)\n",
    "        # im = cv2.resize(im, (300, 300))\n",
    "        kpts = sift.detect(im) #寻找关键点\n",
    "        kpts, des = sift.compute(im, kpts) #计算关键点描述子\n",
    "        des_list.append((image_path, des))\n",
    "    order = order + 1\n",
    "    # print(\"image file path : \", image_path)"
   ]
  },
  {
   "cell_type": "code",
   "execution_count": 92,
   "metadata": {},
   "outputs": [
    {
     "data": {
      "text/plain": [
       "numpy.ndarray"
      ]
     },
     "execution_count": 92,
     "metadata": {},
     "output_type": "execute_result"
    }
   ],
   "source": [
    "type(des_list[0][1])"
   ]
  },
  {
   "cell_type": "code",
   "execution_count": 93,
   "metadata": {
    "scrolled": true
   },
   "outputs": [],
   "source": [
    "# 描述子向量\n",
    "# descriptors = des_list[0][1]\n",
    "# for image_path, descriptor in des_list[1:]:\n",
    "#     print(type(descriptor))\n",
    "#     descriptors = np.vstack((descriptors, descriptor)) #堆叠\n",
    "\n",
    "descriptors = des_list[0][1]\n",
    "for i in range(1, len(des_list)):\n",
    "    if des_list[i][1] is not None:\n",
    "        descriptors = np.vstack((descriptors, des_list[i][1])) #堆叠\n",
    "    else:\n",
    "        descriptors = np.vstack((descriptors, des_list[i%3][1]))"
   ]
  },
  {
   "cell_type": "code",
   "execution_count": null,
   "metadata": {},
   "outputs": [],
   "source": []
  },
  {
   "cell_type": "code",
   "execution_count": 115,
   "metadata": {
    "scrolled": true
   },
   "outputs": [],
   "source": [
    "# 聚类 K-Means\n",
    "k = 300 #聚类中心的个数\n",
    "voc, variance = kmeans(descriptors, k, 1)"
   ]
  },
  {
   "cell_type": "code",
   "execution_count": 145,
   "metadata": {
    "scrolled": true
   },
   "outputs": [],
   "source": [
    "# 生成特征直方图\n",
    "im_features = np.zeros((len(des_list), k), \"float32\")\n",
    "for i in range(len(des_list)):\n",
    "    if des_list[i][1] is not None:\n",
    "        words, distance = vq(des_list[i][1], voc)\n",
    "    else:\n",
    "        words, distance = vq(des_list[i%3][1], voc)\n",
    "    for w in words:\n",
    "        im_features[i][w] += 1"
   ]
  },
  {
   "cell_type": "code",
   "execution_count": 146,
   "metadata": {},
   "outputs": [],
   "source": [
    "nbr_occurences = np.sum((im_features > 0) * 1, axis=0) #每个词出现的次数统计\n",
    "idf = np.array(np.log((1.0 * len(image_paths) + 1) / (1.0 * nbr_occurences + 1)), 'float32') #词频计算"
   ]
  },
  {
   "cell_type": "code",
   "execution_count": 147,
   "metadata": {},
   "outputs": [],
   "source": [
    "im_features = im_features.astype(np.int32)"
   ]
  },
  {
   "cell_type": "code",
   "execution_count": 148,
   "metadata": {},
   "outputs": [],
   "source": [
    "np.savetxt(\"sift.csv\", im_features.astype(np.int32), delimiter=',')"
   ]
  },
  {
   "cell_type": "code",
   "execution_count": 153,
   "metadata": {},
   "outputs": [
    {
     "data": {
      "text/plain": [
       "(4900,)"
      ]
     },
     "execution_count": 153,
     "metadata": {},
     "output_type": "execute_result"
    }
   ],
   "source": [
    "np.shape(image_paths)"
   ]
  },
  {
   "cell_type": "code",
   "execution_count": null,
   "metadata": {},
   "outputs": [],
   "source": []
  }
 ],
 "metadata": {
  "kernelspec": {
   "display_name": "Python 3",
   "language": "python",
   "name": "python3"
  },
  "language_info": {
   "codemirror_mode": {
    "name": "ipython",
    "version": 3
   },
   "file_extension": ".py",
   "mimetype": "text/x-python",
   "name": "python",
   "nbconvert_exporter": "python",
   "pygments_lexer": "ipython3",
   "version": "3.6.6"
  }
 },
 "nbformat": 4,
 "nbformat_minor": 2
}
